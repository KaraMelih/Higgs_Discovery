{
 "cells": [
  {
   "cell_type": "markdown",
   "id": "841e6920",
   "metadata": {},
   "source": [
    "# Statistics studies\n",
    "\n",
    "<br>\n",
    "Created: 03.01.2024<br>\n",
    "Melih Kara"
   ]
  },
  {
   "cell_type": "markdown",
   "id": "139320f3",
   "metadata": {},
   "source": [
    "Following the same lecture, practicing statistics. <br>\n",
    "https://indico.desy.de/event/38671/contributions/140932/attachments/83039/109605/2023_07_03_Statisticsschool_DESY_with_solutions.pdf"
   ]
  },
  {
   "cell_type": "code",
   "execution_count": 1,
   "id": "39d38af7",
   "metadata": {},
   "outputs": [],
   "source": [
    "import scipy.stats as ss\n",
    "import numpy as np\n",
    "import matplotlib.pyplot as plt\n",
    "from matplotlib.colors import LogNorm\n",
    "import uproot\n",
    "import scipy\n",
    "from scipy.interpolate import interp1d\n",
    "from tqdm.notebook import tqdm"
   ]
  },
  {
   "cell_type": "code",
   "execution_count": 2,
   "id": "3d627e01",
   "metadata": {},
   "outputs": [
    {
     "data": {
      "text/plain": [
       "((3600,), (3600,), (3600,), (3600,))"
      ]
     },
     "execution_count": 2,
     "metadata": {},
     "output_type": "execute_result"
    }
   ],
   "source": [
    "rootfile = uproot.open(\"./StatTutorial-master/data/Histograms_fake.root\")\n",
    "higgs_expected = rootfile['h_m4l_Higgs125_fake;1'].to_numpy()\n",
    "bg_expected = rootfile['h_m4l_ZZ_fake;1'].to_numpy()\n",
    "observed_data = rootfile['h_m4l_data_fake;1'].to_numpy()\n",
    "\n",
    "energies = higgs_expected[1][1:]\n",
    "higgs_expected = higgs_expected[0]\n",
    "bg_expected = bg_expected[0]\n",
    "observed_data = observed_data[0]\n",
    "energies.shape, higgs_expected.shape, bg_expected.shape, observed_data.shape"
   ]
  },
  {
   "cell_type": "code",
   "execution_count": 3,
   "id": "d0bfe224",
   "metadata": {},
   "outputs": [],
   "source": [
    "# rebinned data\n",
    "rb_energies = energies.reshape((180,20)).mean(1)\n",
    "rb_observed_data = observed_data.reshape((180,20)).sum(1)\n",
    "rb_higgs_expected = higgs_expected.reshape((180,20)).sum(1)\n",
    "rb_bg_expected = bg_expected.reshape((180,20)).sum(1)\n",
    "\n",
    "optimized_window = 7.26 # GeV for luminosity scale factor of 1\n",
    "# alpha_scale = 1.11 # for background model scaling  # single optimization\n",
    "# sigma_p = 0.063\n",
    "# sigma_m = 0.075\n",
    "\n",
    "# parameters from multivariate fitting (errors are not computed)\n",
    "alpha = 1.18\n",
    "mu = 1.32 \n",
    "ROI = (energies >= 125-optimized_window/2) & (energies <= 125+optimized_window/2)"
   ]
  },
  {
   "cell_type": "markdown",
   "id": "acc38939",
   "metadata": {},
   "source": [
    "$$\\lambda = f_{total} = \\mu\\cdot f_{\\rm Higgs} + \\alpha\\cdot f_{\\rm SM}$$<br>\n",
    " $$-2\\log(L) = -2\\cdot\\sum_{bins}\\log(\\text{Poisson}(N_{bin}^{data}|\\lambda))$$<br>\n",
    " $$\\mu = 1.32$$<br>\n",
    " $$\\alpha = 1.18$$<br>\n",
    " $$(\\alpha = 1.11^{+0.075}_{-0.063})$$<br>\n",
    " \n",
    " Now we are ready to move on!"
   ]
  },
  {
   "cell_type": "code",
   "execution_count": 4,
   "id": "547efc99",
   "metadata": {},
   "outputs": [
    {
     "name": "stdout",
     "output_type": "stream",
     "text": [
      "Expected Higgs Counts: 7.1070104\n",
      "Expected BG Counts: 5.2798347\n",
      "Expected Total: 12.386845\n",
      "Observed Total: 13.0\n"
     ]
    }
   ],
   "source": [
    "roi_energies = energies[ROI] \n",
    "\n",
    "_roi_bg_expected = bg_expected[ROI] \n",
    "_roi_higgs_expected = higgs_expected[ROI] \n",
    "\n",
    "roi_bg_expected = _roi_bg_expected * alpha # scale bg expectation\n",
    "roi_higgs_expected = _roi_higgs_expected * mu # scale higgs expectation\n",
    "roi_observed_data = observed_data[ROI]\n",
    "\n",
    "print(\"Expected Higgs Counts:\", np.sum(roi_higgs_expected))\n",
    "print(\"Expected BG Counts:\", np.sum(roi_bg_expected))\n",
    "print(\"Expected Total:\", np.sum(roi_higgs_expected)+np.sum(roi_bg_expected))\n",
    "print(\"Observed Total:\", np.sum(roi_observed_data))"
   ]
  },
  {
   "cell_type": "code",
   "execution_count": 5,
   "id": "d33d1cd3",
   "metadata": {},
   "outputs": [],
   "source": [
    "# some useful definitions and functions\n",
    "mu_norm = 0\n",
    "normal_dist = ss.norm(mu_norm)\n",
    "x = np.linspace(-5,5,10000)\n",
    "normal_pdf = normal_dist.pdf(x)\n",
    "\n",
    "pvaltosigma = lambda p: abs(normal_dist.ppf(p))\n",
    "sigmatopval = lambda s: 1-normal_dist.cdf(s)\n",
    "\n",
    "def get_nll(observed, expected):\n",
    "    p = ss.poisson.pmf(k=observed.astype(int), mu=expected)\n",
    "    return -2*np.sum(np.log10(p))\n",
    "\n",
    "def func(mu=mu, alf=alpha, fHiggs=_roi_higgs_expected, fSM=_roi_bg_expected):\n",
    "    return (mu*fHiggs) + (alf*fSM)"
   ]
  },
  {
   "cell_type": "markdown",
   "id": "6fc95876",
   "metadata": {},
   "source": [
    " $$-2\\log(L) = -2\\cdot\\sum_{bins}\\log(\\text{Likelihood}) = -2\\cdot\\sum_{bins}\\log(\\text{Poisson}(N_{bin}^{data}| \\mu\\cdot f_{bin}^{Higgs} + \\alpha\\cdot f_{bin}^{SM}))$$<br>\n",
    " $$L(\\mu=0) = -2\\cdot\\sum_{bins}\\log(\\text{Poisson}(N_{bin}^{data}| \\alpha\\cdot f_{bin}^{SM}))$$\n",
    "  $$L(\\mu=1) = -2\\cdot\\sum_{bins}\\log(\\text{Poisson}(N_{bin}^{data}| \\cdot f_{bin}^{Higgs}+\\alpha\\cdot f_{bin}^{SM}))$$\n",
    "  \n",
    "So here $\\mu=0$ represents the background-only hypothesis and $\\mu=1$ represents Higgs+background hypothesis."
   ]
  },
  {
   "cell_type": "markdown",
   "id": "b028c27f",
   "metadata": {},
   "source": [
    "Likelihood ratio test statistic\n",
    "\n",
    "$$X = -2\\log(Q) \\qquad \\text{with} \\qquad Q=\\frac{L(\\mu=1)}{L(\\mu=0)}$$\n",
    "\n",
    "a single number per dataset! \n",
    "\n",
    "Also notice the **profile likelihood ratio** \n",
    "$$Q(\\mu) = \\frac{L(\\mu, \\hat{\\hat{\\theta}}(\\mu))}{L(\\hat{\\mu}, \\hat{\\theta})}$$"
   ]
  },
  {
   "cell_type": "code",
   "execution_count": 6,
   "id": "de1aaf42",
   "metadata": {},
   "outputs": [
    {
     "data": {
      "text/plain": [
       "1.246810408694131"
      ]
     },
     "execution_count": 6,
     "metadata": {},
     "output_type": "execute_result"
    }
   ],
   "source": [
    "observed_total = np.sum(roi_observed_data)\n",
    "\n",
    "expected_1 = func(mu=0, alf=1, fHiggs=_roi_higgs_expected, fSM=_roi_bg_expected)\n",
    "expected_2 = func(mu=1, alf=1, fHiggs=_roi_higgs_expected, fSM=_roi_bg_expected)\n",
    "\n",
    "nll_1 = get_nll(observed_total, expected_1)\n",
    "nll_2 = get_nll(observed_total, expected_2)\n",
    "Q = nll_1 / nll_2\n",
    "Q"
   ]
  },
  {
   "cell_type": "markdown",
   "id": "2069c09b",
   "metadata": {},
   "source": [
    "Now we create another Toy Monte Carlo and investigate the distribution of test statistic for bg-only and bg+signal hypothesis.<br>\n",
    "\n",
    "Recipe: Take the histogram of the template (bg-only or bg+signal) at each bin, use the bin content as the mean ($\\lambda$) of your Poisson distribution and sample a new fake-bin content for that bin. <br>\n",
    "\n",
    "Get 1k toy-data sets for bg-only and get test statistic distribution <br>\n",
    "Get 1k toy-data sets for bg+signal and get test statistic distribution <br>\n",
    "plot the results"
   ]
  },
  {
   "cell_type": "code",
   "execution_count": 7,
   "id": "4bbdd3d9",
   "metadata": {},
   "outputs": [
    {
     "data": {
      "image/png": "[encoded data removed]",
      "text/plain": [
       "<Figure size 900x300 with 1 Axes>"
      ]
     },
     "metadata": {},
     "output_type": "display_data"
    }
   ],
   "source": [
    "fig, ax = plt.subplots(figsize=(9,3))\n",
    "\n",
    "ax.errorbar(rb_energies[rb_observed_data>0], rb_observed_data[rb_observed_data>0]/4.1, \n",
    "            yerr=np.sqrt(rb_observed_data[rb_observed_data>0])/4.1, fmt='. k', alpha=0.3)\n",
    "\n",
    "ax.set_xlim(None, 410)\n",
    "ax.set_ylim(0, None)\n",
    "\n",
    "ax.bar(rb_energies, 1*rb_bg_expected/4.1, width=4.1, color='darkred')\n",
    "ax.bar(rb_energies, 1*rb_higgs_expected/4.1, width=4.1, color='cyan')\n",
    "ax.set_title(fr\"\");"
   ]
  },
  {
   "cell_type": "code",
   "execution_count": 8,
   "id": "c7bdf48d",
   "metadata": {},
   "outputs": [],
   "source": [
    "Ntoys = 1000\n",
    "toys_bgonly = np.array([ss.poisson(i).rvs(Ntoys) for i in rb_bg_expected])\n",
    "toys_bgsig = np.array([ss.poisson(i).rvs(Ntoys) for i in rb_bg_expected+rb_higgs_expected])"
   ]
  },
  {
   "cell_type": "code",
   "execution_count": 9,
   "id": "56973fe5",
   "metadata": {},
   "outputs": [
    {
     "data": {
      "image/png": "[encoded data removed]",
      "text/plain": [
       "<Figure size 900x300 with 1 Axes>"
      ]
     },
     "metadata": {},
     "output_type": "display_data"
    }
   ],
   "source": [
    "fig, ax = plt.subplots(figsize=(9,3))\n",
    "ax.bar(rb_energies, 1*toys_bgonly.mean(-1)/4.1, width=4.1, color='darkred', label='bg only')\n",
    "ax.bar(rb_energies, 1*toys_bgsig.mean(-1)/4.1, width=4.1, ec='dodgerblue', fc='none', label='bg+sig')\n",
    "ax.set_title(fr\"Average over {Ntoys} toy MC\");"
   ]
  },
  {
   "cell_type": "markdown",
   "id": "7037f18d",
   "metadata": {},
   "source": [
    "Now get the test statistic distributions and plot."
   ]
  },
  {
   "cell_type": "code",
   "execution_count": 10,
   "id": "60983d6c",
   "metadata": {},
   "outputs": [
    {
     "data": {
      "text/plain": [
       "(1000,)"
      ]
     },
     "execution_count": 10,
     "metadata": {},
     "output_type": "execute_result"
    }
   ],
   "source": [
    "nll_1 = np.array([get_nll(observed_total, tbgo) for tbgo in toys_bgonly.sum(0)])\n",
    "nll_2 = np.array([get_nll(observed_total, tbgs) for tbgs in toys_bgsig.sum(0)])\n",
    "Q = nll_1 / nll_2\n",
    "Q.shape"
   ]
  },
  {
   "cell_type": "markdown",
   "id": "0f494587",
   "metadata": {},
   "source": [
    "$$X = -2\\log(Q) \\qquad Q=\\frac{L(\\mu=1)}{L(\\mu=0)}$$"
   ]
  },
  {
   "cell_type": "markdown",
   "id": "18ca5e0d",
   "metadata": {},
   "source": [
    "$$X = -2(\\log(L(\\mu=1))-\\log(L(\\mu=0)))$$"
   ]
  },
  {
   "cell_type": "code",
   "execution_count": 13,
   "id": "2b48a544",
   "metadata": {},
   "outputs": [],
   "source": [
    "# plt.hist(nll_1, bins=100, histtype='step');\n",
    "# plt.hist(nll_2, bins=100, histtype='step');"
   ]
  },
  {
   "cell_type": "code",
   "execution_count": 17,
   "id": "07f6b1ec",
   "metadata": {},
   "outputs": [
    {
     "data": {
      "image/png": "[encoded data removed]",
      "text/plain": [
       "<Figure size 640x480 with 1 Axes>"
      ]
     },
     "metadata": {},
     "output_type": "display_data"
    }
   ],
   "source": [
    "plt.hist(-1*(nll_1 - nll_2), bins=100);"
   ]
  },
  {
   "cell_type": "code",
   "execution_count": 18,
   "id": "644d9b0f",
   "metadata": {},
   "outputs": [
    {
     "data": {
      "image/png": "[encoded data removed]",
      "text/plain": [
       "<Figure size 640x480 with 1 Axes>"
      ]
     },
     "metadata": {},
     "output_type": "display_data"
    }
   ],
   "source": [
    "plt.hist(-2*np.log(Q), bins=100);"
   ]
  },
  {
   "cell_type": "code",
   "execution_count": null,
   "id": "e653ea46",
   "metadata": {},
   "outputs": [],
   "source": []
  },
  {
   "cell_type": "code",
   "execution_count": null,
   "id": "c603f6b6",
   "metadata": {},
   "outputs": [],
   "source": []
  },
  {
   "cell_type": "code",
   "execution_count": null,
   "id": "cfdaf239",
   "metadata": {},
   "outputs": [],
   "source": []
  },
  {
   "cell_type": "code",
   "execution_count": null,
   "id": "22e26046",
   "metadata": {},
   "outputs": [],
   "source": []
  }
 ],
 "metadata": {
  "kernelspec": {
   "display_name": "Python 3 (ipykernel)",
   "language": "python",
   "name": "python3"
  },
  "language_info": {
   "codemirror_mode": {
    "name": "ipython",
    "version": 3
   },
   "file_extension": ".py",
   "mimetype": "text/x-python",
   "name": "python",
   "nbconvert_exporter": "python",
   "pygments_lexer": "ipython3",
   "version": "3.7.13"
  }
 },
 "nbformat": 4,
 "nbformat_minor": 5
}
