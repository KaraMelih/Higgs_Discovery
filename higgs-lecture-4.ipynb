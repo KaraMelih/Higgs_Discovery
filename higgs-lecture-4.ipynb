{
 "cells": [
  {
   "cell_type": "markdown",
   "id": "841e6920",
   "metadata": {},
   "source": [
    "# Statistics studies\n",
    "\n",
    "<br>\n",
    "Created: 03.01.2024<br>\n",
    "Melih Kara"
   ]
  },
  {
   "cell_type": "markdown",
   "id": "139320f3",
   "metadata": {},
   "source": [
    "Following the same lecture, practicing statistics. <br>\n",
    "https://indico.desy.de/event/38671/contributions/140932/attachments/83039/109605/2023_07_03_Statisticsschool_DESY_with_solutions.pdf"
   ]
  },
  {
   "cell_type": "code",
   "execution_count": 1,
   "id": "39d38af7",
   "metadata": {},
   "outputs": [],
   "source": [
    "import scipy.stats as ss\n",
    "import numpy as np\n",
    "import matplotlib.pyplot as plt\n",
    "from matplotlib.colors import LogNorm\n",
    "import uproot\n",
    "import scipy\n",
    "from scipy.interpolate import interp1d\n",
    "from tqdm.notebook import tqdm"
   ]
  },
  {
   "cell_type": "code",
   "execution_count": 2,
   "id": "3d627e01",
   "metadata": {},
   "outputs": [
    {
     "data": {
      "text/plain": [
       "((3600,), (3600,), (3600,), (3600,))"
      ]
     },
     "execution_count": 2,
     "metadata": {},
     "output_type": "execute_result"
    }
   ],
   "source": [
    "rootfile = uproot.open(\"./StatTutorial-master/data/Histograms_fake.root\")\n",
    "higgs_expected = rootfile['h_m4l_Higgs125_fake;1'].to_numpy()\n",
    "bg_expected = rootfile['h_m4l_ZZ_fake;1'].to_numpy()\n",
    "observed_data = rootfile['h_m4l_data_fake;1'].to_numpy()\n",
    "\n",
    "energies = higgs_expected[1][1:]\n",
    "higgs_expected = higgs_expected[0]\n",
    "bg_expected = bg_expected[0]\n",
    "observed_data = observed_data[0]\n",
    "energies.shape, higgs_expected.shape, bg_expected.shape, observed_data.shape"
   ]
  },
  {
   "cell_type": "code",
   "execution_count": 3,
   "id": "d0bfe224",
   "metadata": {},
   "outputs": [],
   "source": [
    "# rebinned data\n",
    "rb_energies = energies.reshape((180,20)).mean(1)\n",
    "rb_observed_data = observed_data.reshape((180,20)).sum(1)\n",
    "rb_higgs_expected = higgs_expected.reshape((180,20)).sum(1)\n",
    "rb_bg_expected = bg_expected.reshape((180,20)).sum(1)\n",
    "\n",
    "optimized_window = 7.26 # GeV for luminosity scale factor of 1\n",
    "# alpha_scale = 1.11 # for background model scaling  # single optimization\n",
    "# sigma_p = 0.063\n",
    "# sigma_m = 0.075\n",
    "\n",
    "# parameters from multivariate fitting (errors are not computed)\n",
    "alpha = 1.18\n",
    "mu = 1.32 \n",
    "ROI = (energies >= 125-optimized_window/2) & (energies <= 125+optimized_window/2)"
   ]
  },
  {
   "cell_type": "markdown",
   "id": "acc38939",
   "metadata": {},
   "source": [
    "$$\\lambda = f_{total} = \\mu\\cdot f_{\\rm Higgs} + \\alpha\\cdot f_{\\rm SM}$$<br>\n",
    " $$-2\\log(L) = -2\\cdot\\sum_{bins}\\log(\\text{Poisson}(N_{bin}^{data}|\\lambda))$$<br>\n",
    " $$\\mu = 1.32$$<br>\n",
    " $$\\alpha = 1.18$$<br>\n",
    " $$(\\alpha = 1.11^{+0.075}_{-0.063})$$<br>\n",
    " \n",
    " Now we are ready to move on!"
   ]
  },
  {
   "cell_type": "code",
   "execution_count": 4,
   "id": "547efc99",
   "metadata": {},
   "outputs": [
    {
     "name": "stdout",
     "output_type": "stream",
     "text": [
      "Expected Higgs Counts: 7.1070104\n",
      "Expected BG Counts: 5.2798347\n",
      "Expected Total: 12.386845\n",
      "Observed Total: 13.0\n"
     ]
    }
   ],
   "source": [
    "roi_energies = energies[ROI] \n",
    "\n",
    "_roi_bg_expected = bg_expected[ROI] \n",
    "_roi_higgs_expected = higgs_expected[ROI] \n",
    "\n",
    "roi_bg_expected = _roi_bg_expected * alpha # scale bg expectation\n",
    "roi_higgs_expected = _roi_higgs_expected * mu # scale higgs expectation\n",
    "roi_observed_data = observed_data[ROI]\n",
    "\n",
    "print(\"Expected Higgs Counts:\", np.sum(roi_higgs_expected))\n",
    "print(\"Expected BG Counts:\", np.sum(roi_bg_expected))\n",
    "print(\"Expected Total:\", np.sum(roi_higgs_expected)+np.sum(roi_bg_expected))\n",
    "print(\"Observed Total:\", np.sum(roi_observed_data))"
   ]
  },
  {
   "cell_type": "code",
   "execution_count": 5,
   "id": "d33d1cd3",
   "metadata": {},
   "outputs": [],
   "source": [
    "# some useful definitions and functions\n",
    "mu_norm = 0\n",
    "normal_dist = ss.norm(mu_norm)\n",
    "x = np.linspace(-5,5,10000)\n",
    "normal_pdf = normal_dist.pdf(x)\n",
    "\n",
    "pvaltosigma = lambda p: abs(normal_dist.ppf(p))\n",
    "sigmatopval = lambda s: 1-normal_dist.cdf(s)\n",
    "\n",
    "def get_nll(observed, expected):\n",
    "    p = ss.poisson.pmf(k=observed.astype(int), mu=expected)\n",
    "    return -2*np.sum(np.log10(p))\n",
    "\n",
    "def func(mu=mu, alf=alpha, fHiggs=_roi_higgs_expected, fSM=_roi_bg_expected):\n",
    "    return (mu*fHiggs) + (alf*fSM)"
   ]
  },
  {
   "cell_type": "markdown",
   "id": "6fc95876",
   "metadata": {},
   "source": [
    " $$-2\\log(L) = -2\\cdot\\sum_{bins}\\log(\\text{Likelihood}) = -2\\cdot\\sum_{bins}\\log(\\text{Poisson}(N_{bin}^{data}| \\mu\\cdot f_{bin}^{Higgs} + \\alpha\\cdot f_{bin}^{SM}))$$<br>\n",
    " $$L(\\mu=0) = -2\\cdot\\sum_{bins}\\log(\\text{Poisson}(N_{bin}^{data}| \\alpha\\cdot f_{bin}^{SM}))$$\n",
    "  $$L(\\mu=1) = -2\\cdot\\sum_{bins}\\log(\\text{Poisson}(N_{bin}^{data}| \\cdot f_{bin}^{Higgs}+\\alpha\\cdot f_{bin}^{SM}))$$\n",
    "  \n",
    "So here $\\mu=0$ represents the background-only hypothesis and $\\mu=1$ represents Higgs+background hypothesis."
   ]
  },
  {
   "cell_type": "markdown",
   "id": "b028c27f",
   "metadata": {},
   "source": [
    "Likelihood ratio test statistic\n",
    "\n",
    "$$X = -2\\log(Q) \\qquad \\text{with} \\qquad Q=\\frac{L(\\mu=1)}{L(\\mu=0)}$$\n",
    "\n",
    "a single number per dataset! \n",
    "\n",
    "Also notice the **profile likelihood ratio** \n",
    "$$Q(\\mu) = \\frac{L(\\mu, \\hat{\\hat{\\theta}}(\\mu))}{L(\\hat{\\mu}, \\hat{\\theta})}$$"
   ]
  },
  {
   "cell_type": "code",
   "execution_count": 12,
   "id": "de1aaf42",
   "metadata": {},
   "outputs": [
    {
     "data": {
      "text/plain": [
       "1.246810408694131"
      ]
     },
     "execution_count": 12,
     "metadata": {},
     "output_type": "execute_result"
    }
   ],
   "source": [
    "observed_total = np.sum(roi_observed_data)\n",
    "\n",
    "expected_1 = func(mu=0, alf=1, fHiggs=_roi_higgs_expected, fSM=_roi_bg_expected)\n",
    "expected_2 = func(mu=1, alf=1, fHiggs=_roi_higgs_expected, fSM=_roi_bg_expected)\n",
    "\n",
    "nll_1 = get_nll(observed_total, expected_1)\n",
    "nll_2 = get_nll(observed_total, expected_2)\n",
    "Q = nll_1 / nll_2\n",
    "Q"
   ]
  },
  {
   "cell_type": "markdown",
   "id": "2069c09b",
   "metadata": {},
   "source": [
    "Now we create another Toy Monte Carlo and investigate the distribution of test statistic for bg-only and bg+signal hypothesis.<br>\n",
    "\n",
    "Recipe: Take the histogram of the template (bg-only or bg+signal) at each bin, use the bin content as the mean ($\\lambda$) of your Poisson distribution and sample a new fake-bin content for that bin. <br>\n",
    "\n",
    "Get 1k toy-data sets for bg-only and get test statistic distribution <br>\n",
    "Get 1k toy-data sets for bg+signal and get test statistic distribution <br>\n",
    "plot the results"
   ]
  },
  {
   "cell_type": "code",
   "execution_count": 7,
   "id": "4bbdd3d9",
   "metadata": {},
   "outputs": [
    {
     "data": {
      "image/png": "[encoded data removed]",
      "text/plain": [
       "<Figure size 900x300 with 1 Axes>"
      ]
     },
     "metadata": {},
     "output_type": "display_data"
    }
   ],
   "source": [
    "fig, ax = plt.subplots(figsize=(9,3))\n",
    "\n",
    "ax.errorbar(rb_energies[rb_observed_data>0], rb_observed_data[rb_observed_data>0]/4.1, \n",
    "            yerr=np.sqrt(rb_observed_data[rb_observed_data>0])/4.1, fmt='. k', alpha=0.3)\n",
    "\n",
    "ax.set_xlim(None, 410)\n",
    "ax.set_ylim(0, None)\n",
    "\n",
    "ax.bar(rb_energies, 1*rb_bg_expected/4.1, width=4.1, color='darkred')\n",
    "ax.bar(rb_energies, 1*rb_higgs_expected/4.1, width=4.1, color='cyan')\n",
    "ax.set_title(fr\"\");"
   ]
  },
  {
   "cell_type": "code",
   "execution_count": 8,
   "id": "c7bdf48d",
   "metadata": {},
   "outputs": [],
   "source": [
    "Ntoys = 1000\n",
    "toys_bgonly = np.array([ss.poisson(i).rvs(Ntoys) for i in rb_bg_expected])\n",
    "toys_bgsig = np.array([ss.poisson(i).rvs(Ntoys) for i in rb_bg_expected+rb_higgs_expected])"
   ]
  },
  {
   "cell_type": "code",
   "execution_count": 9,
   "id": "56973fe5",
   "metadata": {},
   "outputs": [
    {
     "data": {
      "image/png": "[encoded data removed]",
      "text/plain": [
       "<Figure size 900x300 with 1 Axes>"
      ]
     },
     "metadata": {},
     "output_type": "display_data"
    }
   ],
   "source": [
    "fig, ax = plt.subplots(figsize=(9,3))\n",
    "ax.bar(rb_energies, 1*toys_bgonly.mean(-1)/4.1, width=4.1, color='darkred', label='bg only')\n",
    "ax.bar(rb_energies, 1*toys_bgsig.mean(-1)/4.1, width=4.1, ec='dodgerblue', fc='none', label='bg+sig')\n",
    "ax.set_title(fr\"Average over {Ntoys} toy MC\");"
   ]
  },
  {
   "cell_type": "markdown",
   "id": "7037f18d",
   "metadata": {},
   "source": [
    "Now get the test statistic distributions and plot."
   ]
  },
  {
   "cell_type": "code",
   "execution_count": 15,
   "id": "60983d6c",
   "metadata": {},
   "outputs": [
    {
     "data": {
      "text/plain": [
       "(1000,)"
      ]
     },
     "execution_count": 15,
     "metadata": {},
     "output_type": "execute_result"
    }
   ],
   "source": [
    "nll_1 = np.array([get_nll(observed_total, tbgo) for tbgo in toys_bgonly.sum(0)])\n",
    "nll_2 = np.array([get_nll(observed_total, tbgs) for tbgs in toys_bgsig.sum(0)])\n",
    "Q = nll_1 / nll_2\n",
    "Q.shape"
   ]
  },
  {
   "cell_type": "markdown",
   "id": "0f494587",
   "metadata": {},
   "source": [
    "$$X = -2\\log(Q) \\qquad Q=\\frac{L(\\mu=1)}{L(\\mu=0)}$$"
   ]
  },
  {
   "cell_type": "markdown",
   "id": "18ca5e0d",
   "metadata": {},
   "source": [
    "$$X = -2(\\log(L(\\mu=1))-\\log(L(\\mu=0)))$$"
   ]
  },
  {
   "cell_type": "code",
   "execution_count": 16,
   "id": "2b48a544",
   "metadata": {
    "collapsed": true
   },
   "outputs": [
    {
     "data": {
      "text/plain": [
       "array([ -0.83655587, -20.929174  , -28.49648472, -31.77569978,\n",
       "        19.23205857,  15.88918649, -30.99374617,  -9.1939016 ,\n",
       "        18.41869665,  -5.0086842 , -31.83617105,   4.99644811,\n",
       "       -16.70541152, -30.10674959,  15.05706122, -28.44050423,\n",
       "        -1.67409588,  -3.34493717,  -2.50772005, -23.3789745 ,\n",
       "        17.59142145, -25.92691464,   3.34493717, -33.48413125,\n",
       "       -17.56555926,  20.92032793,  27.61745802, -45.9710685 ,\n",
       "        38.41139817,  51.95079019,  16.77101757,   0.        ,\n",
       "       -41.06935074,  40.95207314,  15.05706122, -20.92032793,\n",
       "       -37.62222593,  13.40640447, -26.75580104, -40.97516495,\n",
       "       -28.48518209, -10.87517944,  33.44796638,  -7.52229142,\n",
       "        20.04874582, -24.29513983,  -6.68986584,  24.22680037,\n",
       "        20.90898605,   2.51074538,   8.35277827, -20.09516661,\n",
       "       -15.90460813,   1.6761418 ,  15.00322629,   1.67190805,\n",
       "         0.83717961,  18.43917479, -13.39963895,  -8.36416826,\n",
       "        10.04768707,  25.85334924,  35.05895208,  36.01202523,\n",
       "       -16.71700708, -14.25335248, -50.2498442 ,  26.69234678,\n",
       "       -10.05681957,   3.33451931,  30.98106527, -37.65526665,\n",
       "        28.43425717, -30.95818325, -21.7719612 , -19.25488486,\n",
       "        10.8821513 ,   5.8690576 , -15.89785081,  35.13947359,\n",
       "       -17.58058452,   7.5369417 , -20.87543326,  -5.8513404 ,\n",
       "        23.36761754, -30.96809985, -13.36438491,  -2.51579306,\n",
       "         0.83493273,  -9.16446111, -25.95196442, -29.36936827,\n",
       "       -46.05111151,   6.67985004, -22.57158707,  -0.83777951,\n",
       "        18.44632326, -30.1484498 ,  11.71362459,   7.53460188,\n",
       "        19.25083922, -15.85386931,  -5.0098917 ,  10.02913262,\n",
       "         2.51626848, -29.27533635,   5.86025044, -30.13909466,\n",
       "       -35.05036425,   2.51555344, -12.54962578, -52.74826085,\n",
       "       -27.5485559 ,  16.76291716, -10.8642648 , -16.76941478,\n",
       "       -22.59630432,  10.03699042, -12.58010032, -23.384552  ,\n",
       "       -28.50204493,   0.        ,  10.0256662 , -21.76288788,\n",
       "         5.87454725,   4.18093836, -14.23637555,  30.15765121,\n",
       "       -26.77631735,  -6.69279919, -55.13452858,   5.84239488,\n",
       "         1.67320237,   4.17565796,  41.01076186, -44.32451024,\n",
       "       -37.63893506,  -1.67496479,  -2.49771194, -10.03808744,\n",
       "        50.17486375, -20.03683437,  -4.18000322, -25.93259202,\n",
       "         4.19298702, -34.24279697,  14.19202287, -26.74978644,\n",
       "       -47.56321426,  10.90069461, -23.39551098, -27.53504031,\n",
       "        31.8611788 , -18.46354403, -24.28775426,  28.39521843,\n",
       "       -24.25694915,   7.53460188,  12.56152681,  27.6085684 ,\n",
       "       -27.61745802, -15.03842237,   5.00177562,  46.05587821,\n",
       "        41.92165757, -41.77080412, -21.71941229, -42.7285096 ,\n",
       "       -16.69745019,   8.38314613,  10.05281615,  42.79418984,\n",
       "       -24.27003706,  17.55974678,   5.85524591,   5.85777633,\n",
       "        -9.18642166,   5.84023028, -34.25882793,  19.15920991,\n",
       "       -31.8232527 ,  -8.37308137, -14.1885688 ,   3.3415113 ,\n",
       "        -3.3464037 ,   5.01960299,  -8.35762069,  16.72451577,\n",
       "        31.76859234, -27.59647766,  29.29425262, -18.40098621,\n",
       "       -56.01158206,  18.42815805,  -0.83493273,  -5.83876517,\n",
       "        27.55188431,  14.22594275, -33.4734958 ,  -1.67338309,\n",
       "        37.63893506, -13.38407791, -53.65788616, -34.26277712,\n",
       "         4.18762385, -37.68297625,   5.01342946, -23.44424437,\n",
       "         5.01684523,   3.34032868, -35.09229507, -10.85407112,\n",
       "         0.        , -19.31228825,  13.37517282,  -3.33992979,\n",
       "       -11.68969172, -21.69589867,  -2.51333808, -35.19061319,\n",
       "        15.0520945 , -17.58058452, -12.56409164,  20.11934341,\n",
       "        30.96150743, -35.11629253,  23.39006378,  18.4373635 ,\n",
       "        13.3690624 , -48.4357627 ,  11.70063789, -11.70592217,\n",
       "         2.51205966,  20.01954744, -12.5399418 ,  34.22221548,\n",
       "         6.67412902, -20.88773263, -42.58848435, -13.37667839,\n",
       "        -5.84660897,  14.19030101,  17.53754947,  24.24348288,\n",
       "        15.8856509 ,  20.82234392,   0.83523102, -52.63821318,\n",
       "        30.10005691,  -6.69424108,  -5.85651828,  45.14304182,\n",
       "        20.05341276,  26.73754575,  11.71737867, -14.22745825,\n",
       "       -15.92243587, -26.75878244,  -4.17314227,  11.72107016,\n",
       "       -11.71362459,  23.34103403, -11.72107016,  -0.83664649,\n",
       "        28.38844019,  17.61206105,  22.59869988, -41.0447933 ,\n",
       "       -34.18356422,  10.04975566, -33.5082672 ,   7.52734206,\n",
       "        31.00615182,   5.0228109 ,  10.88667096, -12.5399418 ,\n",
       "       -22.57412291, -16.72820588, -33.40172575, -23.45622672,\n",
       "        26.82292192, -17.53754947,  16.74604265, -10.02798389,\n",
       "       -58.52221212,  13.38407791,  35.93396363,  16.72820588,\n",
       "        -3.33992979,  -7.54446885, -19.25488486,  25.87904648,\n",
       "       -16.70541152, -16.7263661 ,  -2.50714918, -12.55762604,\n",
       "        -1.67228317, -30.09668157, -20.90202406,  15.88027048,\n",
       "         2.50479761,  10.01854706,  -7.51617199,  26.69903912,\n",
       "        32.59901271, -21.72946728, -20.07813451, -43.56403366,\n",
       "         5.02437497,   3.34381502,  -3.3522827 ,  34.24279697,\n",
       "         3.34493717,  14.22745825,  32.6172526 , -50.22902048,\n",
       "       -27.68864874, -47.54534994, -35.12021159,  10.06925304,\n",
       "        -3.33580618,   4.18368045,  -0.8347309 ,  -5.00684558,\n",
       "       -35.97019162, -16.73185415,  -5.85067626,  15.91446583,\n",
       "       -27.57781235,  45.14812193,  -3.34111942, -11.7072243 ,\n",
       "       -29.31553264,   8.35570072, -40.92345783,  -4.18186282,\n",
       "       -26.80425858,  -5.02540336, -27.61745802,  12.54962578,\n",
       "       -14.23046387, -54.2235275 ,  10.86176117,  30.97461872,\n",
       "        -2.50966711,  15.07302204, -28.40853649,  21.75125668,\n",
       "        25.95467038,  76.91616852,   2.5093937 ,  19.20083318,\n",
       "         0.        ,  18.37806552,  19.25083922, -26.73131716,\n",
       "        10.00864834, -25.89143865, -11.74528229, -21.76517519,\n",
       "        -6.69352217,  20.96267148,  14.21666755, -48.49727254,\n",
       "        36.80057813,   1.6703632 ,  -6.69495594, -60.89504427,\n",
       "         1.66996549,  -5.8513404 ,  23.41925393,  12.55498913,\n",
       "        11.73976289, -61.79349925, -11.69794938, -15.04016639,\n",
       "       -16.67882221, -23.42689954,  -4.18277679, -12.56662846,\n",
       "        18.37373767, -24.26484627,  28.42475123,  -4.1858956 ,\n",
       "       -46.10212971,   9.19701502, -15.07302204,   0.83532927,\n",
       "       -72.69190738,   9.17975878,  16.75627779, -22.61967085,\n",
       "       -69.35912242,  -5.01049008, -10.87399431,  10.0009004 ,\n",
       "        30.9842618 ,  17.5498335 ,   7.5392431 ,  -4.18093836,\n",
       "        -9.1939016 ,  26.73444061, -42.64739446, -18.39487896,\n",
       "       -60.82389758,  12.56662846,  11.68687321,   1.67302062,\n",
       "        27.620388  , -20.06258458, -10.04664416, -19.18903743,\n",
       "        35.07997658, -34.31573814, -25.97319901,  27.6055715 ,\n",
       "        11.708519  , -19.25689083,  -3.35611753,   2.50828436,\n",
       "        -0.83442356, -11.71737867,  -0.83655587,  -3.35195188,\n",
       "        35.13947359,   7.51617199,   1.67479293, -31.85192727,\n",
       "        -5.0238565 ,  36.09502766,  15.04362399, -29.30953669,\n",
       "       -10.03917825,  11.68402073, -20.0693253 , -15.90460813,\n",
       "       -44.23151651, -84.00672836, -19.25286769, -27.65974812,\n",
       "       -26.69903912,  -7.5369417 , -12.55762604,  10.84337923,\n",
       "         2.50327006, -42.75380221, -12.53423029,   2.51020928,\n",
       "       -21.69857435,   4.18186282, -18.39281972, -35.07164194,\n",
       "       -35.26039949, -41.02796673, -27.6085684 , -15.0761089 ,\n",
       "        -5.84866048, -13.35801787,   3.34712458, -24.28276233,\n",
       "         4.19014605, -34.351089  , -18.33717725,  -7.5289874 ,\n",
       "       -13.35314184,  -1.67171887,  23.43441646,  -9.20894894,\n",
       "       -25.15385415,  -3.33276583, -35.13183469,   6.69495594,\n",
       "        -5.02175358,   8.35857233, -25.98092514,   7.52314537,\n",
       "       -34.3646948 ,  -9.20506051, -15.0520945 , -25.13413073,\n",
       "       -15.06515347,  14.21666755, -12.53278149,  -7.51706169,\n",
       "        25.10287593, -31.83935664,  25.05181233, -15.86545331,\n",
       "        41.8089568 , -24.28276233,   8.36324893, -70.27707256,\n",
       "       -30.92739726,  -3.3415113 ,  -2.50657161,  -8.36508236,\n",
       "       -31.81004567,  28.44360116, -13.37517282,   7.53381324,\n",
       "         0.83637309, -10.87399431, -19.26086954,  -2.50966711,\n",
       "       -14.2037933 ,  12.53710263,  20.85758616, -44.36749523,\n",
       "        -4.18633126,   0.83532927, -24.28024556,   5.86025044,\n",
       "         5.8334933 , -25.07516633,  21.69857435, -19.28569705,\n",
       "        25.12651056, -10.02798389, -34.29730807,  26.71541957,\n",
       "       -12.55631126, -19.25083922, -30.11006725,  22.56647117,\n",
       "        -3.34419123, -37.53253004,  12.56281275, -19.26480454,\n",
       "        29.31254293, -31.00615182, -25.10556112,  -7.53222268,\n",
       "       -46.81472677,  36.90205458,  13.38114349, -31.75045896,\n",
       "       -19.25689083,   0.        , -23.42941932,   0.83646474,\n",
       "        26.75878244,   5.85777633, -20.90667868,  -8.36508236,\n",
       "       -25.12394246,   3.35161925, -13.38553264,  21.76288788,\n",
       "       -10.87517944,   3.34419123, -16.73902795,  11.69929755,\n",
       "       -46.91464964,  10.01611698,   0.        ,  36.77165885,\n",
       "        25.08083626,  25.0457992 , -20.87292933, -40.97059986,\n",
       "        20.0693253 ,  -6.70587103,   8.35179259,  26.77053874,\n",
       "       -11.71861605, -46.77143442,   9.19285171, -41.03642651,\n",
       "       -22.58412175, -15.06674478, -20.08674608, -31.68868192,\n",
       "        12.53567064, -51.96109022, -12.54962578,  -3.34493717,\n",
       "       -25.95736134, -10.05078143,  -7.52229142, -24.20657737,\n",
       "        24.25694915,  -5.0151522 ,   7.50885992,   0.        ,\n",
       "        23.37616073,  -9.2173892 ,  12.55097797, -31.74676827,\n",
       "        -0.83726673,  -4.18676451, -61.89976769,  15.88027048,\n",
       "        13.37517282,   8.34779083, -33.49803755, -23.42941932,\n",
       "        -1.67152858,   1.67133718,  17.52911431,  -7.53848017,\n",
       "        19.22339629, -16.76291716, -31.73556477,  30.96809985,\n",
       "       -10.86049832,   9.21920911, -10.02798389,  -8.36324893,\n",
       "         0.83752524,   9.21275177, -30.96481291, -20.87792233,\n",
       "       -11.7375138 ,  51.92454134, -19.24468507,   2.51127549,\n",
       "        20.94628776,  -0.83769522,  19.246748  , -15.08516914,\n",
       "       -30.19013387,  -4.18412847, -25.10287593, -28.49927231,\n",
       "       -25.09198191, -15.89268182,   2.51153833, -14.18330902,\n",
       "        -5.01960299, -50.16927613,  -1.672654  ,  19.24261045,\n",
       "        -1.67320237,   6.68456735, -22.58658596,  16.71890054,\n",
       "        -2.51205966, -15.04016639, -43.52819722, -27.6055715 ,\n",
       "       -14.23195413,  15.11201499,   5.01684523, -21.75594853,\n",
       "         0.        , -20.08246458, -21.71941229,  18.44455049,\n",
       "         6.68686446,  23.4418079 , -12.56023375, -38.48989572,\n",
       "       -51.8754161 ,  -4.17761747, -35.82733446,  18.33956851,\n",
       "       -30.94127621,   9.20007513, -60.89504427,   4.18047214,\n",
       "       -20.92032793, -32.595301  , -20.93995824, -30.99998284,\n",
       "       -28.38158056, -24.22680037,  10.86176117,  29.30347406,\n",
       "        31.78620905, -19.246748  , -14.25335248, -11.73061978,\n",
       "        10.87399431,   5.84866048, -10.88329065,  30.09328666,\n",
       "        -6.69424108,  15.05706122,  -2.51074538, -45.06314421,\n",
       "       -18.3823427 ,  -5.00497333,   8.38793946, -14.20214146,\n",
       "       -20.87292933,  14.24072435,   2.51074538, -41.06531331,\n",
       "        12.51314409,  20.84704266, -18.40299881, -20.02704577,\n",
       "       -29.26236169,  -2.50714918,  46.83562809,   0.        ,\n",
       "        -3.3460402 ,  22.48498919, -31.83617105, -32.65559898,\n",
       "       -21.79590816,  -8.37650983,  -5.00622528, -15.90627395,\n",
       "       -24.24074277, -33.37319344,  39.31589068,   7.53222268,\n",
       "       -51.0194102 , -15.05375954, -38.47315061,  25.06943016,\n",
       "         1.67114466, -41.88868921,  -4.18633126, -26.74370176,\n",
       "       -39.30290927,  -1.67056029,  20.88773263,  22.57158707,\n",
       "         0.        , -11.70329531, -10.85407112,   0.83493273,\n",
       "        -6.69134088,   4.18889527, -24.25160896,  30.16068483,\n",
       "        44.24771271, -46.05111151,  25.09472867,   7.53848017,\n",
       "       -30.89864947, -26.76762477, -15.08516914,  -3.34676516,\n",
       "         0.8356206 ,  17.52482033,  28.4527873 , -10.07200334,\n",
       "       -39.31589068, -27.58722599, -20.08246458,  10.04768707,\n",
       "        -3.34783737, -26.77631735,  16.72078308,   7.5239944 ,\n",
       "       -14.20543549, -22.60108206,   0.83743955,   9.99691674,\n",
       "       -33.48413125,  39.34533439,   4.19096868,   5.86677876,\n",
       "        -7.53460188, -51.00241245,  51.1745842 , -60.2788196 ,\n",
       "         5.86503707, -17.56555926,  -6.69777568, -22.58164347,\n",
       "        -5.86207019, -59.34793911,  24.19160368, -14.2037933 ,\n",
       "       -12.55097797, -27.62619896,  19.26086954,  -5.85395898,\n",
       "        -5.01342946,   7.50885992,  22.61510026,  26.74063275,\n",
       "        24.26222882, -32.56870109,  15.06355322, -25.05479215,\n",
       "         3.33831015, -51.06869354, -15.89093915,  -5.01850931,\n",
       "        -5.85000825, -21.75125668,  56.93076662, -13.37966366,\n",
       "         0.        ,  19.20545321, -10.05976578,  -4.18633126,\n",
       "        20.92477574,  -6.69424108, -14.21350459, -20.09307904,\n",
       "        25.89752532,  -5.86677876, -20.04639167,   4.18545752,\n",
       "        20.93568029, -25.10823123, -31.79311598,   0.        ,\n",
       "         5.0157198 ,  30.12637525,  10.05976578,  10.03477751,\n",
       "       -11.70592217,  -5.85067626,   0.835812  , -52.02540758,\n",
       "        15.9160773 , -15.89268182,  -6.68986584, -10.04768707,\n",
       "        12.59280899, -28.47070178, -30.12958189,  46.11552215,\n",
       "        15.90293298,  14.22745825,  13.40236741,  22.56647117,\n",
       "       -23.47017976, -10.87399431,  43.5096701 ,  35.94217804,\n",
       "       -15.02592161,  -0.83664649,   7.5239944 ,   4.17314227,\n",
       "        -9.17862478, -25.90354075,  31.77922294, -15.88027048,\n",
       "        -9.23474496,  -4.1858956 , -15.02409286,  14.22288602,\n",
       "       -18.38021039,   6.7078139 ,  13.41428421, -58.42599284,\n",
       "        -1.67246912, -25.05181233,   5.00112416, -27.5551929 ,\n",
       "         3.33622989, -40.93789182, -20.93352354,   3.33871871,\n",
       "         5.86562079,  -5.0151522 ,  30.08298283, -22.60580671,\n",
       "         2.51231817, -15.85386931, -24.27516983, -38.43403562,\n",
       "       -31.75412806,  36.83993844,  -0.8368262 ,  14.20869126,\n",
       "         2.51433597, -14.20214146, -15.05541509,  -5.85395898,\n",
       "        33.44048245,   2.50800302,  -8.37903226,   1.67209615,\n",
       "        27.63762864,  -5.86503707, -35.96625825,  10.03917825,\n",
       "        22.65451271,   5.85963709, -34.33365815, -13.42191499,\n",
       "       -19.22991172,  15.87845611,  13.38114349,  14.19202287,\n",
       "       -21.74171144, -36.80862928,   4.18501698,  -6.68986584,\n",
       "        -5.02792557,   4.17466068,  30.93089712,  -5.01960299,\n",
       "       -41.81822182,  -5.01458129, -31.82650897, -41.88446635,\n",
       "        -3.34889171, -33.44796638,  -5.03601227, -18.32746162,\n",
       "       -16.73546127,  -1.67246912,   4.18232111,  14.22288602,\n",
       "         9.1939016 , -23.43935783,   9.19285171, -14.24781576,\n",
       "        -5.0157198 ,  31.78620905, -11.72228702, -38.56452419,\n",
       "       -14.19880848,   2.50884221,   6.69495594, -16.75627779,\n",
       "        15.06355322,  -1.67444634, -20.88530169, -24.25428669,\n",
       "        -6.68686446, -57.69610107,   3.34889171,  -8.3566635 ,\n",
       "       -20.86532706, -27.57463774, -25.94375529, -10.87039811,\n",
       "         5.0086842 ,   3.34190089,  23.42181697,  11.71362459,\n",
       "        10.85276261,   5.00807501,  20.89967657,  -8.37480505,\n",
       "        25.1657589 ,   9.20208625, -35.96625825,  32.545004  ,\n",
       "        43.53730601,   7.5369417 ,  10.03808744,  -1.67338309,\n",
       "       -30.08643746,  12.57529331, -30.88375681,   0.83618821,\n",
       "        10.04026289,   6.67661043,  10.03477751,  16.70541152,\n",
       "       -35.19760189,   1.67338309, -38.54179311,   0.83769522,\n",
       "       -27.620388  , -13.37817532, -24.24348288,  59.3411711 ,\n",
       "       -16.7443036 , -51.06334036, -21.6794983 ,   6.68144109,\n",
       "        10.86673943,  13.38407791,  10.8642648 , -28.38844019,\n",
       "       -11.70197045, -11.71984652,   8.35473228, -21.78302436,\n",
       "       -11.708519  , -30.89124767,  14.22896527, -49.47835457,\n",
       "        -5.01458129,  10.88442367,   0.83655587,  21.72697555,\n",
       "        -6.68379266,   0.83761046,  -5.00306651,  26.73444061,\n",
       "        -8.33949264, -28.40191673,  -0.83664649, -27.6025575 ,\n",
       "       -34.27060668,   0.8356206 ,  -1.66790374, -15.86163819,\n",
       "       -12.57285097,  -4.18277679,  -0.83618821,   1.67356279,\n",
       "        -1.67320237, -13.37060338, -15.87479546,  -0.83542695])"
      ]
     },
     "execution_count": 16,
     "metadata": {},
     "output_type": "execute_result"
    }
   ],
   "source": [
    "nll_1 - nll_2"
   ]
  },
  {
   "cell_type": "code",
   "execution_count": 17,
   "id": "07f6b1ec",
   "metadata": {},
   "outputs": [
    {
     "data": {
      "image/png": "[encoded data removed]",
      "text/plain": [
       "<Figure size 640x480 with 1 Axes>"
      ]
     },
     "metadata": {},
     "output_type": "display_data"
    }
   ],
   "source": [
    "plt.hist(-1*(nll_1 - nll_2), bins=100);"
   ]
  },
  {
   "cell_type": "code",
   "execution_count": 18,
   "id": "644d9b0f",
   "metadata": {},
   "outputs": [
    {
     "data": {
      "image/png": "[encoded data removed]",
      "text/plain": [
       "<Figure size 640x480 with 1 Axes>"
      ]
     },
     "metadata": {},
     "output_type": "display_data"
    }
   ],
   "source": [
    "plt.hist(-2*np.log(Q), bins=100);"
   ]
  },
  {
   "cell_type": "code",
   "execution_count": null,
   "id": "e653ea46",
   "metadata": {},
   "outputs": [],
   "source": []
  },
  {
   "cell_type": "code",
   "execution_count": null,
   "id": "c603f6b6",
   "metadata": {},
   "outputs": [],
   "source": []
  },
  {
   "cell_type": "code",
   "execution_count": null,
   "id": "cfdaf239",
   "metadata": {},
   "outputs": [],
   "source": []
  },
  {
   "cell_type": "code",
   "execution_count": null,
   "id": "22e26046",
   "metadata": {},
   "outputs": [],
   "source": []
  }
 ],
 "metadata": {
  "kernelspec": {
   "display_name": "Python 3 (ipykernel)",
   "language": "python",
   "name": "python3"
  },
  "language_info": {
   "codemirror_mode": {
    "name": "ipython",
    "version": 3
   },
   "file_extension": ".py",
   "mimetype": "text/x-python",
   "name": "python",
   "nbconvert_exporter": "python",
   "pygments_lexer": "ipython3",
   "version": "3.7.13"
  }
 },
 "nbformat": 4,
 "nbformat_minor": 5
}
